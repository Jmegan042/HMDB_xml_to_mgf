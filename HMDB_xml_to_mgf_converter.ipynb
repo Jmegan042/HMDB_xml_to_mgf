{
    "cells": [
        {
            "cell_type": "markdown",
            "source": [
                "A jupyter notebook to convert HMDB data into mgf files."
            ],
            "metadata": {}
        },
        {
            "cell_type": "markdown",
            "source": [
                "# Required Functions"
            ],
            "metadata": {}
        },
        {
            "cell_type": "code",
            "execution_count": 7,
            "source": [
                "def Construct_Properties_Json(path_in,path_out='Properties_data.json'):\r\n",
                "    from rdkit import Chem\r\n",
                "    \"\"\"\r\n",
                "    Parses HMDB provided structures.sdf file to retrieve structural data for HMDB metabolites. \r\n",
                "\r\n",
                "    Warning: Some structures in HMDB violate rdkit rules and cannot be correctly parsed. \r\n",
                "    These are flagged as the function proceeds and are returned in a list upon completion. \r\n",
                "\r\n",
                "    Required: \r\n",
                "    path_in(path): Location of the structures.sdf file from HMDB\r\n",
                "    path_out(path): Location to output the output json file. \r\n",
                "    \r\n",
                "    \"\"\"\r\n",
                "    import json\r\n",
                "    structure_list = Chem.SDMolSupplier(path_in)\r\n",
                "    Properties_Dict = {}\r\n",
                "    Bad_Molecules = []\r\n",
                "    for mol in structure_list:\r\n",
                "        try: \r\n",
                "            HMDB_ID = mol.GetProp('HMDB_ID')\r\n",
                "            try:\r\n",
                "                SMILES_String = mol.GetProp('SMILES')\r\n",
                "                INCHI_KEY = mol.GetProp('INCHI_KEY')\r\n",
                "                GENERIC_NAME = mol.GetProp('GENERIC_NAME')\r\n",
                "                Mol_Weight = mol.GetProp('MOLECULAR_WEIGHT')\r\n",
                "                Properties_Dict[HMDB_ID]={'Generic_name':GENERIC_NAME,'Mol_Mass':Mol_Weight,'SMILES':SMILES_String,'HMDB_ID':HMDB_ID,'INCHI_KEY':INCHI_KEY}\r\n",
                "            except:\r\n",
                "                Bad_Molecules.append(HMDB_ID)\r\n",
                "        except:\r\n",
                "            pass\r\n",
                "    with open(path_out, 'w') as fp:\r\n",
                "        json.dump(Properties_Dict, fp)\r\n",
                "    return Bad_Molecules\r\n",
                "\r\n",
                "def Read_Properties_Json_to_Dict(path_in):\r\n",
                "    \"\"\"\r\n",
                "    Read properties from saved JSON file into properties dict. \r\n",
                "\r\n",
                "    Required:\r\n",
                "    path_in(path):Location of properties JSON.\r\n",
                "    \r\n",
                "    Returns: \r\n",
                "    Properties_Dict(dict): keys = HMDB ID, values = properties\r\n",
                "    \"\"\"\r\n",
                "    import json\r\n",
                "    with open(path_in, 'r') as fp:\r\n",
                "        Properties_Dict = json.load(fp)\r\n",
                "    return Properties_Dict\r\n",
                "    \r\n",
                "def get_peaks_from_xml(xml_path):\r\n",
                "        \"\"\"\r\n",
                "        Retrieve msms peaks and metadata from XML file\r\n",
                "        \r\n",
                "        Required: \r\n",
                "        xml_path(path):Location of the spectrum xml file\r\n",
                "\r\n",
                "        Output: \r\n",
                "        peaks(tupple list): peaks and intensitites\r\n",
                "        charge (str): Assumed charge state based on ionization mode\r\n",
                "        collision_energy(str): low, med, high collision energy used\r\n",
                "        \r\n",
                "        \"\"\"\r\n",
                "        tree = ET.parse(xml_path)\r\n",
                "        root = tree.getroot() #ms-ms\r\n",
                "        peaks = []\r\n",
                "        ionization_mode = root.find('ionization-mode').text\r\n",
                "        if ionization_mode == 'Positive' or ionization_mode== 'positive':\r\n",
                "            charge = '1+'\r\n",
                "        elif ionization_mode == 'Negative' or ionization_mode== 'negative':\r\n",
                "            charge = '1-'\r\n",
                "        elif ionization_mode == 'N/A' or ionization_mode == 'n/a': #This SHOULDN'T exist, but it does.. \r\n",
                "            charge = 'undefined'\r\n",
                "        collision_energy = root.find('collision-energy-level').text\r\n",
                "        for ms_ms_peak in root.findall('ms-ms-peaks/ms-ms-peak'):\r\n",
                "            peak_charge = ms_ms_peak.find('mass-charge').text\r\n",
                "            peak_intensity = ms_ms_peak.find('intensity').text\r\n",
                "            peak_tupple = (peak_charge,peak_intensity)\r\n",
                "            peaks.append(peak_tupple)\r\n",
                "        return peaks,charge,collision_energy\r\n",
                "        \r\n",
                "def Write_mgf_from_DF(Spectra_Dataframe,generic_name,PEPMASS,charge,collision_energy,filename=\"my_mgf.mgf\"):\r\n",
                "    \"\"\"\r\n",
                "    Constructs an mgf file from a dataframe contianing spectral information. \r\n",
                "\r\n",
                "    Requires: \r\n",
                "    Spectra_Dataframe (dataframe): dataframe version of spectrum information.\r\n",
                "    PEPMASS(float): The declaired PEPMASS to associate with the spectrum.  \r\n",
                "\r\n",
                "    Output: \r\n",
                "    my_mgf.mgf(file output): mgf formatted file saved in current working directory. \r\n",
                "    \r\n",
                "    \r\n",
                "    \"\"\"\r\n",
                "    with open(filename,\"w\") as f: \r\n",
                "        f.write('BEGIN IONS\\nPEPMASS='+str(PEPMASS)+'\\nCHARGE='+charge+'\\nCOLLISION_ENERGY='+collision_energy+\"\\nGENERIC_NAME=\"+generic_name+'\\nNOTE= PEPMASS and charge assumed from HMDB mass and ionization data.\\n')\r\n",
                "        for i in Spectra_Dataframe.index.tolist():\r\n",
                "            f.write(str(Spectra_Dataframe.loc[i]['m/z'])+\"\\t\"+str(Spectra_Dataframe.loc[i]['Intensity'])+'\\n')\r\n",
                "        f.write('END IONS')\r\n",
                "    f.close()"
            ],
            "outputs": [],
            "metadata": {}
        },
        {
            "cell_type": "markdown",
            "source": [
                "## Construct properties JSON from provided structures .sdf file"
            ],
            "metadata": {}
        },
        {
            "cell_type": "code",
            "execution_count": 15,
            "source": [
                "import os\r\n",
                "structures_path_in = os.path.join('Input_Files','structures.sdf')\r\n",
                "properties_path_out = os.path.join('Output_Files','Properties_Data.json')\r\n",
                "Bad_Molecules = Construct_Properties_Json(structures_path_in,properties_path_out)\r\n"
            ],
            "outputs": [],
            "metadata": {}
        },
        {
            "cell_type": "markdown",
            "source": [
                "## Read in already constructed properties json"
            ],
            "metadata": {}
        },
        {
            "cell_type": "code",
            "execution_count": 2,
            "source": [
                "#provided in repository. \r\n",
                "properties_json_path = os.path.join('Output_Files','Properties_Data.json')\r\n",
                "Properties_Dict = Read_Properties_Json_to_Dict(properties_json_path)\r\n",
                "Properties_Dict['HMDB0000001']"
            ],
            "outputs": [
                {
                    "output_type": "execute_result",
                    "data": {
                        "text/plain": [
                            "{'Generic_name': '1-Methylhistidine',\n",
                            " 'Mol_Mass': '169.1811',\n",
                            " 'SMILES': 'CN1C=NC(C[C@H](N)C(O)=O)=C1',\n",
                            " 'HMDB_ID': 'HMDB0000001',\n",
                            " 'INCHI_KEY': 'BRMWTNUJHUMWMS-LURJTMIESA-N'}"
                        ]
                    },
                    "metadata": {},
                    "execution_count": 2
                }
            ],
            "metadata": {}
        },
        {
            "cell_type": "markdown",
            "source": [
                "# Construct MGF files from HMDB xml files"
            ],
            "metadata": {}
        },
        {
            "cell_type": "markdown",
            "source": [
                "## Perform on all spectra"
            ],
            "metadata": {}
        },
        {
            "cell_type": "code",
            "execution_count": 16,
            "source": [
                "## Attempting to parse xml file \r\n",
                "\r\n",
                "import os\r\n",
                "import xml.etree.ElementTree as ET\r\n",
                "import pandas as pd\r\n",
                "Output_Dir = os.path.join('Output_Files','mgf_files')\r\n",
                "\r\n",
                "## for all xml files: \r\n",
                "badlist=[]\r\n",
                "for spectrum_xml in os.listdir(os.path.join('Input_Files','hmdb_experimental_msms_spectra')):\r\n",
                "    xml_path = os.path.join(os.path.join('Input_Files','hmdb_experimental_msms_spectra',spectrum_xml))\r\n",
                "    HMDB_ID = spectrum_xml.split(\"_\")[0]\r\n",
                "    spectrum_number = spectrum_xml.rsplit(\"_\")[-2]\r\n",
                "    try:\r\n",
                "        peaks,charge,collision_energy = get_peaks_from_xml(xml_path)\r\n",
                "        if collision_energy == None: \r\n",
                "            collision_energy='N/A'\r\n",
                "        peaks_DF = pd.DataFrame.from_records(peaks,columns=[\"m/z\",\"Intensity\"])\r\n",
                "        PEPMASS = float(Properties_Dict[HMDB_ID]['Mol_Mass'])+1.0008 #assume pepmass because it is not listed.\r\n",
                "        Generic_Name= Properties_Dict[HMDB_ID]['Generic_name']\r\n",
                "        if charge == \"1+\":\r\n",
                "            mode_folder = 'positive_mode'\r\n",
                "        elif charge ==\"1-\":\r\n",
                "            mode_folder = 'negative_mode'\r\n",
                "        elif charge == 'undefined':\r\n",
                "            mode_folder = 'mode_not_defined'\r\n",
                "        Write_mgf_from_DF(peaks_DF,Generic_Name,PEPMASS,charge,collision_energy,os.path.join(Output_Dir,mode_folder,HMDB_ID+\"_spectrum_\"+str(spectrum_number)+'.mgf'))\r\n",
                "    except:\r\n",
                "        badlist.append((HMDB_ID,spectrum_number))\r\n",
                "# badlist can be called to view all spectra which could not be converted. Likely, this is due to a metadata mismatch. \r\n"
            ],
            "outputs": [],
            "metadata": {}
        },
        {
            "cell_type": "markdown",
            "source": [
                "## Perform on specific spectra"
            ],
            "metadata": {}
        },
        {
            "cell_type": "code",
            "execution_count": null,
            "source": [
                "# for specific metabolites:\r\n",
                "HMDB_ID = \"HMDB0000001\"\r\n",
                "Filename_attempt = HMDB_ID+\"_ms_ms_spectrum_1_experimental.xml\"\r\n",
                "xml_path = os.path.join('Input_Files','hmdb_experimental_msms_spectra',Filename_attempt)\r\n",
                "spectrum_number = spectrum_xml.rsplit(\"_\")[-2]\r\n",
                "try:\r\n",
                "    peaks,charge,collision_energy = get_peaks_from_xml(xml_path)\r\n",
                "    if collision_energy == None: \r\n",
                "        collision_energy='N/A'\r\n",
                "    peaks_DF = pd.DataFrame.from_records(peaks,columns=[\"m/z\",\"Intensity\"])\r\n",
                "    PEPMASS = float(Properties_Dict[HMDB_ID]['Mol_Mass'])+1.0008 #assume pepmass because it is not listed. \r\n",
                "    Generic_Name= Properties_Dict[HMDB_ID]['Generic_name']\r\n",
                "    if charge == \"1+\":\r\n",
                "        mode_folder = 'positive_mode'\r\n",
                "    elif charge ==\"1-\":\r\n",
                "        mode_folder = 'negative_mode'\r\n",
                "    elif charge == 'undefined':\r\n",
                "        mode_folder = 'mode_not_defined'\r\n",
                "    Write_mgf_from_DF(peaks_DF,Generic_Name,PEPMASS,charge,collision_energy,os.path.join(Output_Dir,mode_folder,HMDB_ID+\"_spectrum_\"+str(spectrum_number)+'.mgf'))\r\n",
                "except:\r\n",
                "    print('Can not process this spectrum.')"
            ],
            "outputs": [],
            "metadata": {}
        },
        {
            "cell_type": "code",
            "execution_count": null,
            "source": [],
            "outputs": [],
            "metadata": {}
        }
    ],
    "metadata": {
        "orig_nbformat": 4,
        "language_info": {
            "name": "python",
            "version": "3.7.10",
            "mimetype": "text/x-python",
            "codemirror_mode": {
                "name": "ipython",
                "version": 3
            },
            "pygments_lexer": "ipython3",
            "nbconvert_exporter": "python",
            "file_extension": ".py"
        },
        "kernelspec": {
            "name": "python3",
            "display_name": "Python 3.7.10 64-bit ('DataRevenue': conda)"
        },
        "interpreter": {
            "hash": "61e3f39e18288239044436a5fc43857a9df649e63c69ea7290ef98279809cabc"
        }
    },
    "nbformat": 4,
    "nbformat_minor": 2
}